{
  "nbformat": 4,
  "nbformat_minor": 0,
  "metadata": {
    "colab": {
      "provenance": [],
      "authorship_tag": "ABX9TyOrc9KqIXk0FDTK2LCtNyvz",
      "include_colab_link": true
    },
    "kernelspec": {
      "name": "python3",
      "display_name": "Python 3"
    },
    "language_info": {
      "name": "python"
    }
  },
  "cells": [
    {
      "cell_type": "markdown",
      "metadata": {
        "id": "view-in-github",
        "colab_type": "text"
      },
      "source": [
        "<a href=\"https://colab.research.google.com/github/BeyzaAkgun/TechAssigment/blob/main/Q5.ipynb\" target=\"_parent\"><img src=\"https://colab.research.google.com/assets/colab-badge.svg\" alt=\"Open In Colab\"/></a>"
      ]
    },
    {
      "cell_type": "code",
      "execution_count": 1,
      "metadata": {
        "id": "EBqLMEiS3uVi"
      },
      "outputs": [],
      "source": [
        "import pandas as pd"
      ]
    },
    {
      "cell_type": "code",
      "source": [
        "df = pd.read_csv(\"https://www.piworks.net/Upload/Document/Original/country_vaccination_stats.csv\")\n",
        "\n",
        "\n",
        "df['daily_vaccinations'] = df.groupby('country')['daily_vaccinations'].transform(lambda x: x.fillna(x.min()))\n",
        "\n",
        "df['daily_vaccinations'].fillna(0, inplace=True)\n",
        "\n",
        "df.to_csv(\"modified_country_vaccination_stats.csv\", index=False)"
      ],
      "metadata": {
        "id": "FE0Bo2Ko318A"
      },
      "execution_count": 2,
      "outputs": []
    }
  ]
}