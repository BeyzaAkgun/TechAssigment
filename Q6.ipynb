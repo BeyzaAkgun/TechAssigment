{
  "nbformat": 4,
  "nbformat_minor": 0,
  "metadata": {
    "colab": {
      "provenance": [],
      "authorship_tag": "ABX9TyOsyz84VX6nPpFDAwsmZuYC",
      "include_colab_link": true
    },
    "kernelspec": {
      "name": "python3",
      "display_name": "Python 3"
    },
    "language_info": {
      "name": "python"
    }
  },
  "cells": [
    {
      "cell_type": "markdown",
      "metadata": {
        "id": "view-in-github",
        "colab_type": "text"
      },
      "source": [
        "<a href=\"https://colab.research.google.com/github/BeyzaAkgun/TechAssigment/blob/main/Q6.ipynb\" target=\"_parent\"><img src=\"https://colab.research.google.com/assets/colab-badge.svg\" alt=\"Open In Colab\"/></a>"
      ]
    },
    {
      "cell_type": "code",
      "execution_count": 1,
      "metadata": {
        "id": "lDwfZjE1557I"
      },
      "outputs": [],
      "source": [
        "import pandas as pd"
      ]
    },
    {
      "cell_type": "code",
      "source": [
        "\n",
        "df = pd.read_csv(\"https://www.piworks.net/Upload/Document/Original/country_vaccination_stats.csv\")\n",
        "\n",
        "\n",
        "df['daily_vaccinations'] = df.groupby('country')['daily_vaccinations'].transform(lambda x: x.fillna(x.min()))\n",
        "\n",
        "\n",
        "median_daily_vaccinations = df.groupby('country')['daily_vaccinations'].median()\n",
        "\n",
        "top_3_countries = median_daily_vaccinations.nlargest(3)\n",
        "\n",
        "\n",
        "print(\"Top 3 Countries with Highest Median Daily Vaccination Numbers:\")\n",
        "print(top_3_countries)"
      ],
      "metadata": {
        "colab": {
          "base_uri": "https://localhost:8080/"
        },
        "id": "OHt7fZz35_H7",
        "outputId": "63aa9174-ff08-4f54-d102-f6e49c2ab610"
      },
      "execution_count": 2,
      "outputs": [
        {
          "output_type": "stream",
          "name": "stdout",
          "text": [
            "Top 3 Countries with Highest Median Daily Vaccination Numbers:\n",
            "country\n",
            "United States    378253.0\n",
            "China            276786.0\n",
            "India            173922.0\n",
            "Name: daily_vaccinations, dtype: float64\n"
          ]
        }
      ]
    }
  ]
}